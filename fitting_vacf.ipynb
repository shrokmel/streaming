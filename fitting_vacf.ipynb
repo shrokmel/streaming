{
 "cells": [
  {
   "cell_type": "code",
   "execution_count": 1,
   "metadata": {},
   "outputs": [],
   "source": [
    "import numpy as np\n",
    "import matplotlib.pyplot as plt\n",
    "from scipy.optimize import curve_fit"
   ]
  },
  {
   "cell_type": "code",
   "execution_count": 2,
   "metadata": {},
   "outputs": [
    {
     "data": {
      "image/png": "[encoded data removed]",
      "text/plain": [
       "<matplotlib.figure.Figure at 0x7fc71ac49160>"
      ]
     },
     "metadata": {},
     "output_type": "display_data"
    }
   ],
   "source": [
    "x = np.linspace(0.1,10,200)\n",
    "fitfunc = lambda x, a1, i1, a2, i2: a1*(x**-i1) + a2*(i2**-x)\n",
    "y = fitfunc(x, 1, 5, 1000, 2)\n",
    "plt.loglog(x,y)\n",
    "plt.show()"
   ]
  },
  {
   "cell_type": "markdown",
   "metadata": {},
   "source": [
    "This is a very cool shape - and is similar to vacf.\n",
    "\n",
    "\n",
    "G: -_-"
   ]
  },
  {
   "cell_type": "code",
   "execution_count": 3,
   "metadata": {},
   "outputs": [],
   "source": [
    "# def \n"
   ]
  },
  {
   "cell_type": "code",
   "execution_count": 4,
   "metadata": {},
   "outputs": [
    {
     "data": {
      "text/plain": [
       "[<matplotlib.lines.Line2D at 0x7fc6e8bfd668>]"
      ]
     },
     "execution_count": 4,
     "metadata": {},
     "output_type": "execute_result"
    }
   ],
   "source": [
    "x1 = [1,1,1,1, 2, 3, 4, 5, 6, 7, 7, 8, 9, 10, 11, 12, 13, 14, 16, 17, 19, 21, 23, 25, 28, 31, 34, 37, 41, 45, 49, 54, 59, 65, 72, 79, 86, 95, 104, 114, 126, 138, 151, 166, 183, 200, 220, 242, 265, 291, 319, 351, 385, 422, 464, 509, 559, 613, 673, 739, 811, 890, 977, 1072, 1176, 1291, 1417, 1555, 1707, 1873, 2056, 2257, 2477, 2718, 2983, 3274, 3594, 3944, 4329, 4751, 5214, 5722, 6280, 6893, 7565, 8302, 9112, 10000]\n",
    "x1 = np.array(x1)\n",
    "y1 = [  3.69793028e-02, 3.69793028e-02, 3.69793028e-02, 3.69793028e-02,\n",
    "      \n",
    "   1.40588228e-02,\n",
    "   8.59304331e-03,  7.61262560e-03,   7.37020094e-03,\n",
    "   7.25188944e-03,   7.14394450e-03,   7.14394450e-03,   7.01774284e-03,\n",
    "   6.85265986e-03,   6.71050185e-03,   6.56624464e-03,   6.39631320e-03,\n",
    "   6.23405725e-03,   6.08124863e-03,   5.85318310e-03,   5.74420625e-03,\n",
    "   5.54085616e-03,   5.37473010e-03,   5.24936896e-03 ,  5.12854336e-03,\n",
    "   4.91532590e-03,   4.70730802e-03,   4.52045491e-03 ,  4.37574321e-03,\n",
    "   4.16774955e-03,   3.99205694e-03,   3.79954628e-03,   3.61316698e-03,\n",
    "   3.42256040e-03,   3.24007985e-03,   3.05390474e-03,   2.86356220e-03,\n",
    "   2.70146853e-03,   2.55010277e-03,   2.36488902e-03,   2.25263066e-03,\n",
    "   2.08282145e-03,   1.97060569e-03,   1.83331268e-03 ,  1.71035179e-03,\n",
    "   1.58284779e-03,   1.49025139e-03,   1.41684886e-03 ,  1.29461824e-03,\n",
    "   1.22387987e-03,   1.14084105e-03,   1.04770449e-03 ,  9.81635181e-04,\n",
    "   9.20519757e-04,   8.54117679e-04,   7.99117552e-04 ,  7.15674716e-04,\n",
    "   6.72509894e-04,   5.91167191e-04,   5.64431597e-04 ,  5.53556834e-04,\n",
    "   4.79424401e-04,   4.20517899e-04,   3.54553165e-04 ,  3.19054176e-04,\n",
    "   3.05806811e-04,   2.70367716e-04,   2.47064658e-04 ,  1.81858704e-04,\n",
    "   1.85397541e-04,   1.82702992e-04,   1.39953176e-04,   8.71863085e-05,\n",
    "   9.01957028e-05,   6.06562062e-05,   6.18278791e-05 ,  7.59666291e-05,\n",
    "   2.52848076e-05,  -1.12017906e-05,   2.04623011e-05 , -2.53989674e-05,\n",
    "  -2.76480569e-05,  -3.48888316e-05,  -1.94315726e-05 ,  5.35818617e-06,\n",
    "  -2.70069268e-05,  -4.28482235e-05,   2.37845252e-05 ,  0.00000000e+00]\n",
    "plt.loglog(x1,y1)"
   ]
  },
  {
   "cell_type": "code",
   "execution_count": null,
   "metadata": {},
   "outputs": [],
   "source": []
  },
  {
   "cell_type": "code",
   "execution_count": 6,
   "metadata": {},
   "outputs": [
    {
     "name": "stderr",
     "output_type": "stream",
     "text": [
      "/home/astyonax/.anaconda/envs/py36/lib/python3.6/site-packages/ipykernel/__main__.py:1: RuntimeWarning: invalid value encountered in power\n",
      "  if __name__ == '__main__':\n"
     ]
    },
    {
     "data": {
      "image/png": "[encoded data removed]",
      "text/plain": [
       "<matplotlib.figure.Figure at 0x7fc6e870b6d8>"
      ]
     },
     "metadata": {},
     "output_type": "display_data"
    },
    {
     "name": "stdout",
     "output_type": "stream",
     "text": [
      "[  3.64867656e-16   1.64538050e-16   2.63604839e-12   4.98569458e-15]\n"
     ]
    }
   ],
   "source": [
    "double_exp = lambda x, a1, i1, a2, i2: a1*(x**-i1) + a2*(i2**-x)\n",
    "popt, pcov = curve_fit(double_exp, x, y)    # This works better in Jureca for some reason. \n",
    "y = fitfunc(x, *popt)\n",
    "plt.loglog(x, y, c='k')\n",
    "plt.show()\n",
    "perr = np.sqrt(np.diag(pcov))\n",
    "print(perr)"
   ]
  },
  {
   "cell_type": "markdown",
   "metadata": {},
   "source": [
    "This is still garbage. But from the previous plot, there seems to be hope."
   ]
  },
  {
   "cell_type": "code",
   "execution_count": null,
   "metadata": {},
   "outputs": [],
   "source": []
  }
 ],
 "metadata": {
  "kernelspec": {
   "display_name": "Python [conda env:py36]",
   "language": "python",
   "name": "conda-env-py36-py"
  },
  "language_info": {
   "codemirror_mode": {
    "name": "ipython",
    "version": 3
   },
   "file_extension": ".py",
   "mimetype": "text/x-python",
   "name": "python",
   "nbconvert_exporter": "python",
   "pygments_lexer": "ipython3",
   "version": "3.6.3"
  }
 },
 "nbformat": 4,
 "nbformat_minor": 2
}
